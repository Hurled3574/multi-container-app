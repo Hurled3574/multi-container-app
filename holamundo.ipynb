{
  "nbformat": 4,
  "nbformat_minor": 0,
  "metadata": {
    "colab": {
      "provenance": [],
      "toc_visible": true,
      "authorship_tag": "ABX9TyOGj8AUoqfVuJCYT1Y2itTn",
      "include_colab_link": true
    },
    "kernelspec": {
      "name": "python3",
      "display_name": "Python 3"
    },
    "language_info": {
      "name": "python"
    }
  },
  "cells": [
    {
      "cell_type": "markdown",
      "metadata": {
        "id": "view-in-github",
        "colab_type": "text"
      },
      "source": [
        "<a href=\"https://colab.research.google.com/github/Hurled3574/multi-container-app/blob/main/holamundo.ipynb\" target=\"_parent\"><img src=\"https://colab.research.google.com/assets/colab-badge.svg\" alt=\"Open In Colab\"/></a>"
      ]
    },
    {
      "cell_type": "code",
      "execution_count": null,
      "metadata": {
        "id": "aRfMoDADnZnP"
      },
      "outputs": [],
      "source": []
    },
    {
      "cell_type": "markdown",
      "source": [
        "hola mundo"
      ],
      "metadata": {
        "id": "OAKbL13hr8fW"
      }
    },
    {
      "cell_type": "code",
      "source": [],
      "metadata": {
        "id": "_tNgWwpJsAt1"
      },
      "execution_count": null,
      "outputs": []
    },
    {
      "cell_type": "markdown",
      "source": [
        "hola mundo 2"
      ],
      "metadata": {
        "id": "fNoXVBhjsyA-"
      }
    }
  ]
}